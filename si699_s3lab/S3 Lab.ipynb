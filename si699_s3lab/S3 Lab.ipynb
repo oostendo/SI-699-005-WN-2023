{
 "cells": [
  {
   "cell_type": "markdown",
   "metadata": {},
   "source": [
    "# Set your credentials and config"
   ]
  },
  {
   "cell_type": "code",
   "execution_count": null,
   "metadata": {},
   "outputs": [],
   "source": [
    "import os\n",
    "\n",
    "aws_creds = \"\"\"\n",
    "PASTE CREDENTIALS IN HERE WATCH OUT FOR SPACES AND CRs IN THE SESSION KEY\n",
    "\"\"\"\n",
    "\n",
    "creds_path = os.path.expanduser(\"~/.aws/credentials\")\n",
    "\n",
    "if os.path.exists(creds_path):\n",
    "    raise Exception(\"Credentials file already exists, aborting!\")\n",
    "\n",
    "print(f\"Writing Credentials to {creds_path}\")\n",
    "\n",
    "with open(creds_path, \"w+\") as f:\n",
    "    f.write(aws_creds)\n",
    "\n"
   ]
  },
  {
   "cell_type": "code",
   "execution_count": null,
   "metadata": {},
   "outputs": [],
   "source": [
    "aws_config = \"\"\"\n",
    "[default]\n",
    "region = us-east-1\n",
    "\"\"\"\n",
    "\n",
    "config_path = os.path.expanduser(\"~/.aws/config\")\n",
    "\n",
    "if os.path.exists(config_path):\n",
    "    raise Exception(\"Config file already exists, aborting!\")\n",
    "\n",
    "print(f\"Writing Credentials to {config_path}\")\n",
    "\n",
    "with open(config_path, \"w+\") as f:\n",
    "    f.write(aws_config)"
   ]
  },
  {
   "cell_type": "markdown",
   "metadata": {},
   "source": [
    "# Set up your python dependencies"
   ]
  },
  {
   "cell_type": "code",
   "execution_count": null,
   "metadata": {},
   "outputs": [],
   "source": [
    "%%bash\n",
    "pip install boto3 awscli"
   ]
  },
  {
   "cell_type": "markdown",
   "metadata": {},
   "source": [
    "# Test AWS S3 bucket list"
   ]
  },
  {
   "cell_type": "code",
   "execution_count": null,
   "metadata": {},
   "outputs": [],
   "source": [
    "%%bash\n",
    "\n",
    "aws s3 ls"
   ]
  },
  {
   "cell_type": "markdown",
   "metadata": {},
   "source": [
    "If you got nothing, or a list of buckets you made in the web interface you should be good."
   ]
  },
  {
   "cell_type": "markdown",
   "metadata": {},
   "source": [
    "# Create a new bucket"
   ]
  },
  {
   "cell_type": "code",
   "execution_count": null,
   "metadata": {},
   "outputs": [],
   "source": [
    "%%bash\n",
    "aws s3api  create-bucket --bucket PUT_YOUR_BUCKET_NAME_HERE\n"
   ]
  },
  {
   "cell_type": "markdown",
   "metadata": {},
   "source": [
    "Go back and run the LS command again, you should see your new bucket there"
   ]
  },
  {
   "cell_type": "code",
   "execution_count": null,
   "metadata": {},
   "outputs": [],
   "source": [
    "%%bash\n",
    "\n",
    "echo \"heres my test file\" > testfile.txt\n",
    "aws s3 cp testfile.txt s3://PUT_YOUR_BUCKET_NAME_HERE/"
   ]
  },
  {
   "cell_type": "code",
   "execution_count": null,
   "metadata": {},
   "outputs": [],
   "source": [
    "%%bash\n",
    "\n",
    "rm testfile.txt\n",
    "aws s3 cp s3://PUT_YOUR_BUCKET_NAME_HERE/testfile.txt .\n",
    "cat testfile"
   ]
  },
  {
   "cell_type": "code",
   "execution_count": null,
   "metadata": {},
   "outputs": [],
   "source": [
    "import boto3\n",
    "\n",
    "#list buckets\n",
    "[s3b for s3b in boto3.resource('s3').buckets.all()] \n",
    "\n"
   ]
  },
  {
   "cell_type": "code",
   "execution_count": null,
   "metadata": {},
   "outputs": [],
   "source": [
    "#upload a file from the filesystem\n",
    "s3client = boto3.client('s3')\n",
    "\n",
    "s3client.upload_file('testfile.txt',  'PUT_YOUR_BUCKET_NAME_HERE', 'testfilepython.txt')"
   ]
  },
  {
   "cell_type": "code",
   "execution_count": null,
   "metadata": {},
   "outputs": [],
   "source": [
    "#read a file contents from S3 as a string\n",
    "s3resource = boto3.resource('s3')\n",
    "\n",
    "obj = s3resource.Object('PUT_YOUR_BUCKET_NAME_HERE', \"testfilepython.txt\")\n",
    "obj.get()['Body'].read().decode('utf-8') \n"
   ]
  },
  {
   "cell_type": "markdown",
   "metadata": {},
   "source": [
    "# Documentation\n",
    "\n",
    "- Boto3 S3: [https://boto3.amazonaws.com/v1/documentation/api/latest/reference/services/s3.html#id204]\n",
    "- AWSCLI: [https://docs.aws.amazon.com/cli/latest/reference/s3/index.html]"
   ]
  },
  {
   "cell_type": "code",
   "execution_count": null,
   "metadata": {},
   "outputs": [],
   "source": []
  }
 ],
 "metadata": {
  "kernelspec": {
   "display_name": "Python 3",
   "language": "python",
   "name": "python3"
  },
  "language_info": {
   "codemirror_mode": {
    "name": "ipython",
    "version": 3
   },
   "file_extension": ".py",
   "mimetype": "text/x-python",
   "name": "python",
   "nbconvert_exporter": "python",
   "pygments_lexer": "ipython3",
   "version": "3.7.3"
  }
 },
 "nbformat": 4,
 "nbformat_minor": 2
}
